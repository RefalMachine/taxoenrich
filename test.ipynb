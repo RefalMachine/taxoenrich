{
 "cells": [
  {
   "cell_type": "code",
   "execution_count": 1,
   "metadata": {},
   "outputs": [
    {
     "name": "stderr",
     "output_type": "stream",
     "text": [
      "<frozen importlib._bootstrap>:219: RuntimeWarning: scipy._lib.messagestream.MessageStream size changed, may indicate binary incompatibility. Expected 56 from C header, got 64 from PyObject\n"
     ]
    },
    {
     "name": "stdout",
     "output_type": "stream",
     "text": [
      "Loading Thesaurus\n",
      "Loading Vectors\n"
     ]
    },
    {
     "name": "stderr",
     "output_type": "stream",
     "text": [
      "100%|██████████| 29296/29296 [00:00<00:00, 279004.40it/s]\n"
     ]
    }
   ],
   "source": [
    "from taxoenrich.utils import create_train_dataset_broad\n",
    "from taxoenrich.models import HypernymPredictModel\n",
    "\n",
    "config = {\n",
    "        'pos': 'N',\n",
    "        'topk': 40,\n",
    "        'lang': 'ru',\n",
    "        'ruthes': False,\n",
    "        'embeddings_path': r'D:\\WorkFolder\\emb\\araneum_fasttextskipgram_14_12_21.wv',\n",
    "        'search_by_word': True,\n",
    "        'processes': 8,\n",
    "        'thesaurus_dir': r'D:\\WorkFolder\\data\\models\\RuWordNet',\n",
    "        'allowed_rels': ['hypernym'],\n",
    "        'include_synset': False,\n",
    "        'use_def': False\n",
    "    }\n",
    "\n",
    "model = HypernymPredictModel(config)"
   ]
  },
  {
   "cell_type": "code",
   "execution_count": 2,
   "metadata": {},
   "outputs": [
    {
     "name": "stderr",
     "output_type": "stream",
     "text": [
      "100%|██████████| 29296/29296 [00:00<00:00, 79608.69it/s]\n"
     ]
    },
    {
     "name": "stdout",
     "output_type": "stream",
     "text": [
      "29296\n",
      "29287\n",
      "Estimated train size 2928\n"
     ]
    },
    {
     "name": "stderr",
     "output_type": "stream",
     "text": [
      "100%|██████████| 2928/2928 [01:32<00:00, 31.72it/s]"
     ]
    },
    {
     "name": "stdout",
     "output_type": "stream",
     "text": [
      "Train size 2875\n"
     ]
    },
    {
     "name": "stderr",
     "output_type": "stream",
     "text": [
      "\n"
     ]
    }
   ],
   "source": [
    "train_df = create_train_dataset_broad(\n",
    "        model.thesaurus, config['pos'], allowed_rels=config['allowed_rels'], fraction=0.1,\n",
    "        include_synset=False, only_leafs=True, include_second_order=True)"
   ]
  },
  {
   "cell_type": "code",
   "execution_count": 3,
   "metadata": {},
   "outputs": [
    {
     "data": {
      "text/html": [
       "<div>\n",
       "<style scoped>\n",
       "    .dataframe tbody tr th:only-of-type {\n",
       "        vertical-align: middle;\n",
       "    }\n",
       "\n",
       "    .dataframe tbody tr th {\n",
       "        vertical-align: top;\n",
       "    }\n",
       "\n",
       "    .dataframe thead th {\n",
       "        text-align: right;\n",
       "    }\n",
       "</style>\n",
       "<table border=\"1\" class=\"dataframe\">\n",
       "  <thead>\n",
       "    <tr style=\"text-align: right;\">\n",
       "      <th></th>\n",
       "      <th>word</th>\n",
       "      <th>target_synset</th>\n",
       "      <th>target_gold</th>\n",
       "    </tr>\n",
       "  </thead>\n",
       "  <tbody>\n",
       "    <tr>\n",
       "      <th>0</th>\n",
       "      <td>шрапнельный_снаряд</td>\n",
       "      <td>[129557-N]</td>\n",
       "      <td>[[8104-N, 129937-N, 811-N]]</td>\n",
       "    </tr>\n",
       "    <tr>\n",
       "      <th>1</th>\n",
       "      <td>корь</td>\n",
       "      <td>[4684-N]</td>\n",
       "      <td>[[2046-N, 10055-N, 1054-N, 616-N]]</td>\n",
       "    </tr>\n",
       "    <tr>\n",
       "      <th>2</th>\n",
       "      <td>енисейск</td>\n",
       "      <td>[101456-N]</td>\n",
       "      <td>[[136746-N, 134530-N]]</td>\n",
       "    </tr>\n",
       "    <tr>\n",
       "      <th>3</th>\n",
       "      <td>нетерпимость</td>\n",
       "      <td>[137721-N, 119803-N]</td>\n",
       "      <td>[[106647-N, 106924-N, 148420-N, 106769-N], [11...</td>\n",
       "    </tr>\n",
       "    <tr>\n",
       "      <th>4</th>\n",
       "      <td>консерватория</td>\n",
       "      <td>[1442-N]</td>\n",
       "      <td>[[764-N, 1609-N, 132529-N]]</td>\n",
       "    </tr>\n",
       "    <tr>\n",
       "      <th>...</th>\n",
       "      <td>...</td>\n",
       "      <td>...</td>\n",
       "      <td>...</td>\n",
       "    </tr>\n",
       "    <tr>\n",
       "      <th>2870</th>\n",
       "      <td>раунд_бой</td>\n",
       "      <td>[137436-N]</td>\n",
       "      <td>[[123361-N, 130564-N, 153471-N, 118698-N]]</td>\n",
       "    </tr>\n",
       "    <tr>\n",
       "      <th>2871</th>\n",
       "      <td>кандидат_в_мастер_спорт</td>\n",
       "      <td>[5128-N]</td>\n",
       "      <td>[[1626-N, 5127-N, 150555-N, 3057-N]]</td>\n",
       "    </tr>\n",
       "    <tr>\n",
       "      <th>2872</th>\n",
       "      <td>метрологический_поверка</td>\n",
       "      <td>[4059-N]</td>\n",
       "      <td>[[106695-N, 142133-N, 106697-N, 106562-N]]</td>\n",
       "    </tr>\n",
       "    <tr>\n",
       "      <th>2873</th>\n",
       "      <td>баклажан</td>\n",
       "      <td>[144181-N, 144262-N]</td>\n",
       "      <td>[[348-N, 107871-N, 4681-N, 106554-N], [6878-N,...</td>\n",
       "    </tr>\n",
       "    <tr>\n",
       "      <th>2874</th>\n",
       "      <td>разворачивание</td>\n",
       "      <td>[137440-N, 120376-N]</td>\n",
       "      <td>[[106494-N, 153471-N], [106889-N, 106614-N, 10...</td>\n",
       "    </tr>\n",
       "  </tbody>\n",
       "</table>\n",
       "<p>2875 rows × 3 columns</p>\n",
       "</div>"
      ],
      "text/plain": [
       "                         word         target_synset  \\\n",
       "0          шрапнельный_снаряд            [129557-N]   \n",
       "1                        корь              [4684-N]   \n",
       "2                    енисейск            [101456-N]   \n",
       "3                нетерпимость  [137721-N, 119803-N]   \n",
       "4               консерватория              [1442-N]   \n",
       "...                       ...                   ...   \n",
       "2870                раунд_бой            [137436-N]   \n",
       "2871  кандидат_в_мастер_спорт              [5128-N]   \n",
       "2872  метрологический_поверка              [4059-N]   \n",
       "2873                 баклажан  [144181-N, 144262-N]   \n",
       "2874           разворачивание  [137440-N, 120376-N]   \n",
       "\n",
       "                                            target_gold  \n",
       "0                           [[8104-N, 129937-N, 811-N]]  \n",
       "1                    [[2046-N, 10055-N, 1054-N, 616-N]]  \n",
       "2                                [[136746-N, 134530-N]]  \n",
       "3     [[106647-N, 106924-N, 148420-N, 106769-N], [11...  \n",
       "4                           [[764-N, 1609-N, 132529-N]]  \n",
       "...                                                 ...  \n",
       "2870         [[123361-N, 130564-N, 153471-N, 118698-N]]  \n",
       "2871               [[1626-N, 5127-N, 150555-N, 3057-N]]  \n",
       "2872         [[106695-N, 142133-N, 106697-N, 106562-N]]  \n",
       "2873  [[348-N, 107871-N, 4681-N, 106554-N], [6878-N,...  \n",
       "2874  [[106494-N, 153471-N], [106889-N, 106614-N, 10...  \n",
       "\n",
       "[2875 rows x 3 columns]"
      ]
     },
     "execution_count": 3,
     "metadata": {},
     "output_type": "execute_result"
    }
   ],
   "source": [
    "model = HypernymPredictModel.from_pretrained('D:\\WorkFolderNew\\projects\\taxoenrich\\data\\models\\test_1_23_03_23')"
   ]
  },
  {
   "cell_type": "code",
   "execution_count": 1,
   "metadata": {},
   "outputs": [
    {
     "name": "stderr",
     "output_type": "stream",
     "text": [
      "<frozen importlib._bootstrap>:219: RuntimeWarning: scipy._lib.messagestream.MessageStream size changed, may indicate binary incompatibility. Expected 56 from C header, got 64 from PyObject\n"
     ]
    },
    {
     "name": "stdout",
     "output_type": "stream",
     "text": [
      "Loading Thesaurus\n",
      "Loading Vectors\n"
     ]
    },
    {
     "name": "stderr",
     "output_type": "stream",
     "text": [
      "100%|██████████| 29296/29296 [00:00<00:00, 234369.34it/s]\n",
      "100%|██████████| 49713/49713 [00:01<00:00, 34667.36it/s]\n"
     ]
    }
   ],
   "source": [
    "from taxoenrich.models import HypernymPredictModel\n",
    "model = HypernymPredictModel.from_pretrained(r'D:\\WorkFolderNew\\projects\\taxoenrich\\data\\models\\test_2_23_03_23')"
   ]
  },
  {
   "cell_type": "code",
   "execution_count": 2,
   "metadata": {},
   "outputs": [
    {
     "data": {
      "text/html": [
       "<div>\n",
       "<style scoped>\n",
       "    .dataframe tbody tr th:only-of-type {\n",
       "        vertical-align: middle;\n",
       "    }\n",
       "\n",
       "    .dataframe tbody tr th {\n",
       "        vertical-align: top;\n",
       "    }\n",
       "\n",
       "    .dataframe thead th {\n",
       "        text-align: right;\n",
       "    }\n",
       "</style>\n",
       "<table border=\"1\" class=\"dataframe\">\n",
       "  <thead>\n",
       "    <tr style=\"text-align: right;\">\n",
       "      <th></th>\n",
       "      <th>word</th>\n",
       "      <th>cand</th>\n",
       "      <th>cand_name</th>\n",
       "      <th>prob</th>\n",
       "    </tr>\n",
       "  </thead>\n",
       "  <tbody>\n",
       "    <tr>\n",
       "      <th>0</th>\n",
       "      <td>КОШКА</td>\n",
       "      <td>4454-N</td>\n",
       "      <td>собака</td>\n",
       "      <td>0.972826</td>\n",
       "    </tr>\n",
       "    <tr>\n",
       "      <th>1</th>\n",
       "      <td>КОШКА</td>\n",
       "      <td>143352-N</td>\n",
       "      <td>порода собак</td>\n",
       "      <td>0.970503</td>\n",
       "    </tr>\n",
       "    <tr>\n",
       "      <th>2</th>\n",
       "      <td>КОШКА</td>\n",
       "      <td>110841-N</td>\n",
       "      <td>кошачьи</td>\n",
       "      <td>0.959984</td>\n",
       "    </tr>\n",
       "    <tr>\n",
       "      <th>3</th>\n",
       "      <td>КОШКА</td>\n",
       "      <td>4453-N</td>\n",
       "      <td>домашнее животное</td>\n",
       "      <td>0.921700</td>\n",
       "    </tr>\n",
       "    <tr>\n",
       "      <th>4</th>\n",
       "      <td>КОШКА</td>\n",
       "      <td>6804-N</td>\n",
       "      <td>кошка</td>\n",
       "      <td>0.910704</td>\n",
       "    </tr>\n",
       "    <tr>\n",
       "      <th>5</th>\n",
       "      <td>КОШКА</td>\n",
       "      <td>144174-N</td>\n",
       "      <td>животное</td>\n",
       "      <td>0.901074</td>\n",
       "    </tr>\n",
       "    <tr>\n",
       "      <th>6</th>\n",
       "      <td>КОШКА</td>\n",
       "      <td>107795-N</td>\n",
       "      <td>хищное млекопитающее</td>\n",
       "      <td>0.893080</td>\n",
       "    </tr>\n",
       "    <tr>\n",
       "      <th>7</th>\n",
       "      <td>КОШКА</td>\n",
       "      <td>934-N</td>\n",
       "      <td>млекопитающее</td>\n",
       "      <td>0.884722</td>\n",
       "    </tr>\n",
       "    <tr>\n",
       "      <th>8</th>\n",
       "      <td>КОШКА</td>\n",
       "      <td>107807-N</td>\n",
       "      <td>детеныш животного</td>\n",
       "      <td>0.869434</td>\n",
       "    </tr>\n",
       "    <tr>\n",
       "      <th>9</th>\n",
       "      <td>КОШКА</td>\n",
       "      <td>4593-N</td>\n",
       "      <td>пушной зверь</td>\n",
       "      <td>0.843093</td>\n",
       "    </tr>\n",
       "  </tbody>\n",
       "</table>\n",
       "</div>"
      ],
      "text/plain": [
       "    word      cand             cand_name      prob\n",
       "0  КОШКА    4454-N                собака  0.972826\n",
       "1  КОШКА  143352-N          порода собак  0.970503\n",
       "2  КОШКА  110841-N               кошачьи  0.959984\n",
       "3  КОШКА    4453-N     домашнее животное  0.921700\n",
       "4  КОШКА    6804-N                 кошка  0.910704\n",
       "5  КОШКА  144174-N              животное  0.901074\n",
       "6  КОШКА  107795-N  хищное млекопитающее  0.893080\n",
       "7  КОШКА     934-N         млекопитающее  0.884722\n",
       "8  КОШКА  107807-N     детеныш животного  0.869434\n",
       "9  КОШКА    4593-N          пушной зверь  0.843093"
      ]
     },
     "execution_count": 2,
     "metadata": {},
     "output_type": "execute_result"
    }
   ],
   "source": [
    "model.predict_one('кошка')"
   ]
  },
  {
   "cell_type": "code",
   "execution_count": 15,
   "metadata": {},
   "outputs": [
    {
     "data": {
      "text/html": [
       "<div>\n",
       "<style scoped>\n",
       "    .dataframe tbody tr th:only-of-type {\n",
       "        vertical-align: middle;\n",
       "    }\n",
       "\n",
       "    .dataframe tbody tr th {\n",
       "        vertical-align: top;\n",
       "    }\n",
       "\n",
       "    .dataframe thead th {\n",
       "        text-align: right;\n",
       "    }\n",
       "</style>\n",
       "<table border=\"1\" class=\"dataframe\">\n",
       "  <thead>\n",
       "    <tr style=\"text-align: right;\">\n",
       "      <th></th>\n",
       "      <th>word</th>\n",
       "      <th>cand</th>\n",
       "      <th>cand_name</th>\n",
       "      <th>prob</th>\n",
       "    </tr>\n",
       "  </thead>\n",
       "  <tbody>\n",
       "    <tr>\n",
       "      <th>0</th>\n",
       "      <td>СОЛЬ</td>\n",
       "      <td>108760-N</td>\n",
       "      <td>химическое соединение</td>\n",
       "      <td>0.955197</td>\n",
       "    </tr>\n",
       "    <tr>\n",
       "      <th>1</th>\n",
       "      <td>СОЛЬ</td>\n",
       "      <td>109594-N</td>\n",
       "      <td>соль (химическое соединение)</td>\n",
       "      <td>0.942365</td>\n",
       "    </tr>\n",
       "    <tr>\n",
       "      <th>2</th>\n",
       "      <td>СОЛЬ</td>\n",
       "      <td>107911-N</td>\n",
       "      <td>приправа</td>\n",
       "      <td>0.924989</td>\n",
       "    </tr>\n",
       "    <tr>\n",
       "      <th>3</th>\n",
       "      <td>СОЛЬ</td>\n",
       "      <td>2868-N</td>\n",
       "      <td>химический элемент</td>\n",
       "      <td>0.918907</td>\n",
       "    </tr>\n",
       "    <tr>\n",
       "      <th>4</th>\n",
       "      <td>СОЛЬ</td>\n",
       "      <td>5735-N</td>\n",
       "      <td>пряность</td>\n",
       "      <td>0.915696</td>\n",
       "    </tr>\n",
       "    <tr>\n",
       "      <th>5</th>\n",
       "      <td>СОЛЬ</td>\n",
       "      <td>820-N</td>\n",
       "      <td>вещество</td>\n",
       "      <td>0.901949</td>\n",
       "    </tr>\n",
       "    <tr>\n",
       "      <th>6</th>\n",
       "      <td>СОЛЬ</td>\n",
       "      <td>3675-N</td>\n",
       "      <td>жидкость</td>\n",
       "      <td>0.868617</td>\n",
       "    </tr>\n",
       "    <tr>\n",
       "      <th>7</th>\n",
       "      <td>СОЛЬ</td>\n",
       "      <td>368-N</td>\n",
       "      <td>продукты питания</td>\n",
       "      <td>0.865848</td>\n",
       "    </tr>\n",
       "    <tr>\n",
       "      <th>8</th>\n",
       "      <td>СОЛЬ</td>\n",
       "      <td>370-N</td>\n",
       "      <td>пищевкусовые продукты</td>\n",
       "      <td>0.863293</td>\n",
       "    </tr>\n",
       "    <tr>\n",
       "      <th>9</th>\n",
       "      <td>СОЛЬ</td>\n",
       "      <td>9708-N</td>\n",
       "      <td>щелочные металлы</td>\n",
       "      <td>0.809424</td>\n",
       "    </tr>\n",
       "  </tbody>\n",
       "</table>\n",
       "</div>"
      ],
      "text/plain": [
       "   word      cand                     cand_name      prob\n",
       "0  СОЛЬ  108760-N         химическое соединение  0.955197\n",
       "1  СОЛЬ  109594-N  соль (химическое соединение)  0.942365\n",
       "2  СОЛЬ  107911-N                      приправа  0.924989\n",
       "3  СОЛЬ    2868-N            химический элемент  0.918907\n",
       "4  СОЛЬ    5735-N                      пряность  0.915696\n",
       "5  СОЛЬ     820-N                      вещество  0.901949\n",
       "6  СОЛЬ    3675-N                      жидкость  0.868617\n",
       "7  СОЛЬ     368-N              продукты питания  0.865848\n",
       "8  СОЛЬ     370-N         пищевкусовые продукты  0.863293\n",
       "9  СОЛЬ    9708-N              щелочные металлы  0.809424"
      ]
     },
     "execution_count": 15,
     "metadata": {},
     "output_type": "execute_result"
    }
   ],
   "source": [
    "model.predict_one('соль')"
   ]
  },
  {
   "cell_type": "code",
   "execution_count": null,
   "metadata": {},
   "outputs": [],
   "source": []
  },
  {
   "cell_type": "code",
   "execution_count": null,
   "metadata": {},
   "outputs": [],
   "source": []
  },
  {
   "cell_type": "code",
   "execution_count": null,
   "metadata": {},
   "outputs": [],
   "source": []
  },
  {
   "cell_type": "code",
   "execution_count": 1,
   "metadata": {},
   "outputs": [
    {
     "name": "stderr",
     "output_type": "stream",
     "text": [
      "<frozen importlib._bootstrap>:219: RuntimeWarning: scipy._lib.messagestream.MessageStream size changed, may indicate binary incompatibility. Expected 56 from C header, got 64 from PyObject\n"
     ]
    },
    {
     "data": {
      "application/vnd.jupyter.widget-view+json": {
       "model_id": "511bfe32b2af4f0789bcb21a5eb593eb",
       "version_major": 2,
       "version_minor": 0
      },
      "text/plain": [
       "Downloading:   0%|          | 0.00/2.31k [00:00<?, ?B/s]"
      ]
     },
     "metadata": {},
     "output_type": "display_data"
    }
   ],
   "source": [
    "from transformers import pipeline\n",
    "pipe = pipeline(model='AlexWortega/instruct_rugptMedium')\n"
   ]
  },
  {
   "cell_type": "code",
   "execution_count": 2,
   "metadata": {},
   "outputs": [
    {
     "data": {
      "text/plain": [
       "transformers.pipelines.text_generation.TextGenerationPipeline"
      ]
     },
     "execution_count": 2,
     "metadata": {},
     "output_type": "execute_result"
    }
   ],
   "source": [
    "type(pipe)"
   ]
  },
  {
   "cell_type": "code",
   "execution_count": 4,
   "metadata": {},
   "outputs": [
    {
     "data": {
      "text/plain": [
       "[{'generated_text': 'Куда уходит детство? Детство уходит, когда вы становитесь старше. Взросление — это переход от детства к взрослой жизни. \"\" '},\n",
       " {'generated_text': 'Куда уходит детство? Детство уходит, когда вы становитесь старше. Когда вы взрослеете, вы начинаете взрослеть. \"\" '},\n",
       " {'generated_text': 'Куда уходит детство? Детство уходит, когда вы становитесь старше. Когда вы молоды, у вас есть много времени, чтобы учиться, работать и развлекаться. Затем вы взрослеете и начинаете взрослеть. \"\" '},\n",
       " {'generated_text': 'Куда уходит детство? Детство уходит, когда вы становитесь старше. Это время взросления и зрелости. \"\" '}]"
      ]
     },
     "execution_count": 4,
     "metadata": {},
     "output_type": "execute_result"
    }
   ],
   "source": [
    "gen_kwargs = {\n",
    "        \"min_length\": 20,\n",
    "        \"max_new_tokens\": 100,\n",
    "        \"top_k\": 50,\n",
    "        \"top_p\": 0.9,\n",
    "        \"do_sample\": True,  \n",
    "        \"early_stopping\": True,\n",
    "        \"no_repeat_ngram_size\": 2,\n",
    "        \"eos_token_id\": 50257,\n",
    "        \"pad_token_id\": 50257,\n",
    "        \"use_cache\": True,\n",
    "        \"repetition_penalty\": 1.5,  \n",
    "        \"length_penalty\": 0.8,  \n",
    "        \"num_beams\": 4,\n",
    "        \"num_return_sequences\": 4\n",
    "    }\n",
    "pipe('''Куда уходит детство?''', **gen_kwargs)"
   ]
  }
 ],
 "metadata": {
  "kernelspec": {
   "display_name": "base",
   "language": "python",
   "name": "python3"
  },
  "language_info": {
   "codemirror_mode": {
    "name": "ipython",
    "version": 3
   },
   "file_extension": ".py",
   "mimetype": "text/x-python",
   "name": "python",
   "nbconvert_exporter": "python",
   "pygments_lexer": "ipython3",
   "version": "3.8.8"
  },
  "orig_nbformat": 4
 },
 "nbformat": 4,
 "nbformat_minor": 2
}
